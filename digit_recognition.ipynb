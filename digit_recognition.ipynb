{
 "cells": [
  {
   "cell_type": "code",
   "execution_count": 2,
   "metadata": {},
   "outputs": [],
   "source": [
    "import tensorflow as tf\n",
    "import gradio as gr"
   ]
  },
  {
   "cell_type": "code",
   "execution_count": 3,
   "metadata": {},
   "outputs": [],
   "source": [
    "(x_train, y_train), (x_test, y_test) = tf.keras.datasets.mnist.load_data()\n",
    "x_train = x_train / 255.0, \n",
    "x_test = x_test / 255.0"
   ]
  },
  {
   "cell_type": "code",
   "execution_count": 4,
   "metadata": {},
   "outputs": [
    {
     "name": "stdout",
     "output_type": "stream",
     "text": [
      "Train on 60000 samples, validate on 10000 samples\n",
      "Epoch 1/8\n",
      "60000/60000 [==============================] - 10s 170us/sample - loss: 0.2558 - accuracy: 0.9263 - val_loss: 0.1307 - val_accuracy: 0.9623\n",
      "Epoch 2/8\n",
      "60000/60000 [==============================] - 7s 109us/sample - loss: 0.1140 - accuracy: 0.9660 - val_loss: 0.1050 - val_accuracy: 0.9690\n",
      "Epoch 3/8\n",
      "60000/60000 [==============================] - 6s 105us/sample - loss: 0.0769 - accuracy: 0.9765 - val_loss: 0.0857 - val_accuracy: 0.9739\n",
      "Epoch 4/8\n",
      "60000/60000 [==============================] - 6s 105us/sample - loss: 0.0582 - accuracy: 0.9826 - val_loss: 0.0798 - val_accuracy: 0.9756\n",
      "Epoch 5/8\n",
      "60000/60000 [==============================] - 6s 106us/sample - loss: 0.0452 - accuracy: 0.9861 - val_loss: 0.0709 - val_accuracy: 0.9780\n",
      "Epoch 6/8\n",
      "60000/60000 [==============================] - 6s 105us/sample - loss: 0.0353 - accuracy: 0.9889 - val_loss: 0.0720 - val_accuracy: 0.9780\n",
      "Epoch 7/8\n",
      "60000/60000 [==============================] - 6s 105us/sample - loss: 0.0272 - accuracy: 0.9920 - val_loss: 0.0720 - val_accuracy: 0.9780\n",
      "Epoch 8/8\n",
      "60000/60000 [==============================] - 6s 105us/sample - loss: 0.0216 - accuracy: 0.9930 - val_loss: 0.0756 - val_accuracy: 0.9777\n"
     ]
    },
    {
     "data": {
      "text/plain": [
       "<tensorflow.python.keras.callbacks.History at 0x1673ab58f60>"
      ]
     },
     "execution_count": 4,
     "metadata": {},
     "output_type": "execute_result"
    }
   ],
   "source": [
    "model = tf.keras.models.Sequential([\n",
    "  tf.keras.layers.Flatten(input_shape=(28, 28)),\n",
    "  tf.keras.layers.Dense(128,activation='relu'),\n",
    "  tf.keras.layers.Dense(10, activation='softmax')\n",
    "])\n",
    "model.compile(optimizer='adam', loss='sparse_categorical_crossentropy', metrics=['accuracy'])\n",
    "model.fit(x_train, y_train, validation_data=(x_test, y_test), epochs=8)"
   ]
  },
  {
   "cell_type": "code",
   "execution_count": 5,
   "metadata": {},
   "outputs": [],
   "source": [
    "def classify(image):\n",
    "    prediction = model.predict(image).tolist()[0]\n",
    "    return {str(i): prediction[i] for i in range(10)}\n",
    "    \n",
    "sketchpad = gr.inputs.Sketchpad()\n",
    "label = gr.outputs.Label(num_top_classes=3)\n",
    "interface = gr.Interface(classify, sketchpad, label, live=True, capture_session=True)"
   ]
  },
  {
   "cell_type": "code",
   "execution_count": 6,
   "metadata": {},
   "outputs": [
    {
     "name": "stdout",
     "output_type": "stream",
     "text": [
      "Running locally at: http://127.0.0.1:7860/\n",
      "Running on External URL: https://44052.gradio.app\n"
     ]
    },
    {
     "data": {
      "text/html": [
       "\n",
       "        <iframe\n",
       "            width=\"1000\"\n",
       "            height=\"500\"\n",
       "            src=\"http://127.0.0.1:7860/\"\n",
       "            frameborder=\"0\"\n",
       "            allowfullscreen\n",
       "        ></iframe>\n",
       "        "
      ],
      "text/plain": [
       "<IPython.lib.display.IFrame at 0x1673b23cc18>"
      ]
     },
     "metadata": {},
     "output_type": "display_data"
    },
    {
     "data": {
      "text/plain": [
       "(<gradio.networking.serve_files_in_background.<locals>.HTTPServer at 0x1673adbcf98>,\n",
       " 'http://127.0.0.1:7860/',\n",
       " 'https://44052.gradio.app')"
      ]
     },
     "execution_count": 6,
     "metadata": {},
     "output_type": "execute_result"
    }
   ],
   "source": [
    "interface.launch(share=True)"
   ]
  },
  {
   "cell_type": "code",
   "execution_count": null,
   "metadata": {},
   "outputs": [],
   "source": []
  }
 ],
 "metadata": {
  "kernelspec": {
   "display_name": "Python 3",
   "language": "python",
   "name": "python3"
  },
  "language_info": {
   "codemirror_mode": {
    "name": "ipython",
    "version": 3
   },
   "file_extension": ".py",
   "mimetype": "text/x-python",
   "name": "python",
   "nbconvert_exporter": "python",
   "pygments_lexer": "ipython3",
   "version": "3.7.3"
  }
 },
 "nbformat": 4,
 "nbformat_minor": 4
}
